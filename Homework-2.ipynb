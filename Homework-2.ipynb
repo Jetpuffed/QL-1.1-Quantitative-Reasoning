{
 "cells": [
  {
   "cell_type": "code",
   "execution_count": 53,
   "metadata": {},
   "outputs": [],
   "source": [
    "import random\n",
    "\n",
    "def verify_head(prob_head, num_flips):\n",
    "    events = [\"H\", \"T\"]\n",
    "    weights = [prob_head, 1-prob_head]\n",
    "    possibilities = [[[\"H\"], [\"H\"], [\"T\"]], [[\"H\"], [\"T\"], [\"H\"]], [[\"H\"], [\"H\"], [\"T\"]]]\n",
    "    count = 0\n",
    "    \n",
    "    for _ in range(num_flips):\n",
    "        roll = [random.choices(events, weights) for i in range(3)]\n",
    "        if roll in possibilities:\n",
    "            count += 1\n",
    "\n",
    "    return count / num_flips"
   ]
  },
  {
   "cell_type": "code",
   "execution_count": 54,
   "metadata": {},
   "outputs": [
    {
     "data": {
      "text/plain": [
       "0.1274"
      ]
     },
     "execution_count": 54,
     "metadata": {},
     "output_type": "execute_result"
    }
   ],
   "source": [
    "verify_head(0.3, 10000)"
   ]
  },
  {
   "cell_type": "code",
   "execution_count": null,
   "metadata": {},
   "outputs": [],
   "source": []
  }
 ],
 "metadata": {
  "file_extension": ".py",
  "kernelspec": {
   "display_name": "Python 3.8.1 64-bit ('3.8.1': pyenv)",
   "language": "python",
   "name": "python38164bit381pyenv26217c7b6bb6417a8bd68f06a34153b0"
  },
  "language_info": {
   "codemirror_mode": {
    "name": "ipython",
    "version": 3
   },
   "file_extension": ".py",
   "mimetype": "text/x-python",
   "name": "python",
   "nbconvert_exporter": "python",
   "pygments_lexer": "ipython3",
   "version": "3.8.1"
  },
  "mimetype": "text/x-python",
  "name": "python",
  "npconvert_exporter": "python",
  "pygments_lexer": "ipython3",
  "version": 3
 },
 "nbformat": 4,
 "nbformat_minor": 2
}
