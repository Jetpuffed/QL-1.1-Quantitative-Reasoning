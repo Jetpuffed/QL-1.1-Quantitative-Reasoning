{
 "nbformat": 4,
 "nbformat_minor": 2,
 "metadata": {
  "language_info": {
   "name": "python",
   "codemirror_mode": {
    "name": "ipython",
    "version": 3
   },
   "version": "3.8.1-final"
  },
  "orig_nbformat": 2,
  "file_extension": ".py",
  "mimetype": "text/x-python",
  "name": "python",
  "npconvert_exporter": "python",
  "pygments_lexer": "ipython3",
  "version": 3,
  "kernelspec": {
   "name": "python38164bit381pyenv26217c7b6bb6417a8bd68f06a34153b0",
   "display_name": "Python 3.8.1 64-bit ('3.8.1': pyenv)"
  }
 },
 "cells": [
  {
   "cell_type": "code",
   "execution_count": 27,
   "metadata": {},
   "outputs": [
    {
     "name": "stdout",
     "output_type": "stream",
     "text": "0.692876030278359\n"
    }
   ],
   "source": [
    "# Hint: Your function takes four parameters:\n",
    "    # - x (dataset: array of floats)\n",
    "    # - y (dataset: array of floats)\n",
    "    # - w_0 (weight: float)\n",
    "    # - w_1 (weight: float)\n",
    "# and will return the R-squared value\n",
    "\n",
    "def r_sq(y, x, w1, w0):\n",
    "    y_bar  = np.mean(y)\n",
    "    y_pred = (w1 * x) + w0\n",
    "    SS_res = sum((y - y_pred) ** 2)\n",
    "    SS_tot = sum((y - y_bar) ** 2)\n",
    "    return 1- SS_res/SS_tot\n",
    "\n",
    "print(r_sq(y, x, 0.25163494, 0.79880123))"
   ]
  },
  {
   "cell_type": "code",
   "execution_count": 28,
   "metadata": {},
   "outputs": [
    {
     "name": "stdout",
     "output_type": "stream",
     "text": "r-squared: 0.6928760302783604\n"
    }
   ],
   "source": [
    "# Verify that your function works correctly\n",
    "\n",
    "from scipy import stats\n",
    "\n",
    "slope, intercept, r_value, p_value, std_err = stats.linregress(x, y)\n",
    "\n",
    "print(\"r-squared:\", r_value**2)"
   ]
  }
 ]
}