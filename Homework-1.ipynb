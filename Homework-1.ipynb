{
 "cells": [
  {
   "cell_type": "code",
   "execution_count": 124,
   "metadata": {},
   "outputs": [],
   "source": [
    "import numpy as np"
   ]
  },
  {
   "cell_type": "code",
   "execution_count": 125,
   "metadata": {},
   "outputs": [],
   "source": [
    "def get_mean(lst):\n",
    "    lst_total = sum(lst)\n",
    "    \n",
    "    return lst_total / len(lst)"
   ]
  },
  {
   "cell_type": "code",
   "execution_count": 126,
   "metadata": {},
   "outputs": [],
   "source": [
    "def get_covariance(lst_x, lst_y):\n",
    "    avg_x = get_mean(lst_x)\n",
    "    avg_y = get_mean(lst_y)\n",
    "    add_lst = [(x - avg_x) * (y - avg_y) for x, y in zip(lst_x, lst_y)]\n",
    "    \n",
    "    return np.sum(add_lst) / (len(lst_x) - 1)"
   ]
  },
  {
   "cell_type": "code",
   "execution_count": 127,
   "metadata": {},
   "outputs": [],
   "source": [
    "def get_variance(lst_x):\n",
    "    avg_x = get_mean(lst_x)\n",
    "    add_lst = [(_ - avg_x) ** 2 for _ in lst_x]\n",
    "    \n",
    "    return np.sum(add_lst) / (len(lst_x) - 1)"
   ]
  },
  {
   "cell_type": "code",
   "execution_count": 128,
   "metadata": {},
   "outputs": [],
   "source": [
    "def get_covariance_matrix(lst_x, lst_y, lst_z):\n",
    "    cov_XY = get_covariance(lst_x, lst_y)\n",
    "    cov_XZ = get_covariance(lst_x, lst_z)\n",
    "    cov_YZ = get_covariance(lst_y, lst_z)\n",
    "    \n",
    "    var_X = get_variance(lst_x)\n",
    "    var_Y = get_variance(lst_y)\n",
    "    var_Z = get_variance(lst_z)\n",
    "    \n",
    "    width = 6\n",
    "    precision = 4\n",
    "\n",
    "    matrix = (\n",
    "        f'{var_X:<{width}.{precision}} {cov_XY:<{width}.{precision}} {cov_XZ:<{width}.{precision}}\\n'\n",
    "        f'{cov_XY:<{width}.{precision}} {var_Y:<{width}.{precision}} {cov_YZ:<{width}.{precision}}\\n'\n",
    "        f'{cov_XZ:<{width}.{precision}} {cov_YZ:<{width}.{precision}} {var_Z:<{width}.{precision}}\\n'\n",
    "    )\n",
    "    \n",
    "    return matrix"
   ]
  },
  {
   "cell_type": "code",
   "execution_count": 129,
   "metadata": {},
   "outputs": [],
   "source": [
    "X = [1, 1, 1, 1]\n",
    "Y = [1, 2, 3, 4]\n",
    "Z = [1, 1, 2, 3]"
   ]
  },
  {
   "cell_type": "code",
   "execution_count": 130,
   "metadata": {},
   "outputs": [
    {
     "name": "stdout",
     "output_type": "stream",
     "text": [
      "0.0    0.0    0.0   \n",
      "0.0    1.667  1.167 \n",
      "0.0    1.167  0.9167\n",
      "\n"
     ]
    }
   ],
   "source": [
    "print(get_covariance_matrix(X, Y, Z))"
   ]
  },
  {
   "cell_type": "code",
   "execution_count": null,
   "metadata": {},
   "outputs": [],
   "source": []
  }
 ],
 "metadata": {
  "kernelspec": {
   "display_name": "Python 3",
   "language": "python",
   "name": "python3"
  },
  "language_info": {
   "codemirror_mode": {
    "name": "ipython",
    "version": 3
   },
   "file_extension": ".py",
   "mimetype": "text/x-python",
   "name": "python",
   "nbconvert_exporter": "python",
   "pygments_lexer": "ipython3",
   "version": "3.8.1"
  }
 },
 "nbformat": 4,
 "nbformat_minor": 4
}
